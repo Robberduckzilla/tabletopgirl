{
 "cells": [
  {
   "cell_type": "code",
   "execution_count": 2,
   "metadata": {},
   "outputs": [],
   "source": [
    "import plotly\n",
    "import plotly.graph_objects as go\n",
    "from random import randint, choice\n",
    "\n",
    "import dice_game"
   ]
  },
  {
   "cell_type": "code",
   "execution_count": 22,
   "metadata": {},
   "outputs": [],
   "source": [
    "# def face_rotation(face_num, direction, face_dict):\n",
    "    \n",
    "#     if direction == 'right':\n",
    "#         change_dict = {\n",
    "#             'up':'right',\n",
    "#             'right' :'down',\n",
    "#             'down': 'left',\n",
    "#             'left':'up'\n",
    "#             }\n",
    "        \n",
    "#     elif direction == 'left':\n",
    "#         change_dict = {\n",
    "#             'up':'left',\n",
    "#             'left' :'down',\n",
    "#             'down': 'right',\n",
    "#             'right':'up'\n",
    "#             }\n",
    "    \n",
    "#     replacement_dict = {}\n",
    "    \n",
    "#     for key, val in face_dict.items():\n",
    "#             new_key = change_dict[key]\n",
    "#             val_num = val.split(' ')[0]\n",
    "#             val_direction = val.split(' ')[1]\n",
    "#             new_direction = change_dict[val_direction]\n",
    "#             replacement_dict[new_key] = val_num + ' ' + new_direction\n",
    "    \n",
    "#     return replacement_dict\n",
    "\n",
    "# rotation_dict = {}\n",
    "# for key in ['1 up', '2 up', '3 up', '4 up', '5 up', '6 up']:\n",
    "#     num = key.split(' ')[0]\n",
    "#     rotation_dict[key] = move_dict[key]\n",
    "#     rotation_dict[f'{num} right'] = face_rotation(num, 'right', rotation_dict[key])\n",
    "#     rotation_dict[f'{num} down'] = face_rotation(num, 'right', rotation_dict[f'{num} right'])\n",
    "#     rotation_dict[f'{num} left'] = face_rotation(num, 'right', rotation_dict[f'{num} down'])"
   ]
  },
  {
   "cell_type": "code",
   "execution_count": 3,
   "metadata": {},
   "outputs": [],
   "source": [
    "rotation_dict = {'1 up': {'up': '2 up',\n",
    "  'down': '5 down',\n",
    "  'left': '4 left',\n",
    "  'right': '3 right'},\n",
    " '1 right': {'right': '2 right',\n",
    "  'left': '5 left',\n",
    "  'up': '4 up',\n",
    "  'down': '3 down'},\n",
    " '1 down': {'down': '2 down',\n",
    "  'up': '5 up',\n",
    "  'right': '4 right',\n",
    "  'left': '3 left'},\n",
    " '1 left': {'left': '2 left',\n",
    "  'right': '5 right',\n",
    "  'down': '4 down',\n",
    "  'up': '3 up'},\n",
    " '2 up': {'up': '6 up', 'down': '1 up', 'left': '3 up', 'right': '4 up'},\n",
    " '2 right': {'right': '6 right',\n",
    "  'left': '1 right',\n",
    "  'up': '3 right',\n",
    "  'down': '4 right'},\n",
    " '2 down': {'down': '6 down',\n",
    "  'up': '1 down',\n",
    "  'right': '3 down',\n",
    "  'left': '4 down'},\n",
    " '2 left': {'left': '6 left',\n",
    "  'right': '1 left',\n",
    "  'down': '3 left',\n",
    "  'up': '4 left'},\n",
    " '3 up': {'up': '6 right', 'down': '1 left', 'left': '2 up', 'right': '5 up'},\n",
    " '3 right': {'right': '6 down',\n",
    "  'left': '1 up',\n",
    "  'up': '2 right',\n",
    "  'down': '5 right'},\n",
    " '3 down': {'down': '6 left',\n",
    "  'up': '1 right',\n",
    "  'right': '2 down',\n",
    "  'left': '5 down'},\n",
    " '3 left': {'left': '6 up',\n",
    "  'right': '1 down',\n",
    "  'down': '2 left',\n",
    "  'up': '5 left'},\n",
    " '4 up': {'up': '6 left', 'down': '1 right', 'left': '5 up', 'right': '2 up'},\n",
    " '4 right': {'right': '6 up',\n",
    "  'left': '1 down',\n",
    "  'up': '5 right',\n",
    "  'down': '2 right'},\n",
    " '4 down': {'down': '6 right',\n",
    "  'up': '1 left',\n",
    "  'right': '5 down',\n",
    "  'left': '2 down'},\n",
    " '4 left': {'left': '6 down',\n",
    "  'right': '1 up',\n",
    "  'down': '5 left',\n",
    "  'up': '2 left'},\n",
    " '5 up': {'up': '6 down', 'down': '1 down', 'left': '3 up', 'right': '4 up'},\n",
    " '5 right': {'right': '6 left',\n",
    "  'left': '1 left',\n",
    "  'up': '3 right',\n",
    "  'down': '4 right'},\n",
    " '5 down': {'down': '6 up', 'up': '1 up', 'right': '3 down', 'left': '4 down'},\n",
    " '5 left': {'left': '6 right',\n",
    "  'right': '1 right',\n",
    "  'down': '3 left',\n",
    "  'up': '4 left'},\n",
    " '6 up': {'up': '5 down',\n",
    "  'down': '2 up',\n",
    "  'left': '4 right',\n",
    "  'right': '3 left'},\n",
    " '6 right': {'right': '5 left',\n",
    "  'left': '2 right',\n",
    "  'up': '4 down',\n",
    "  'down': '3 up'},\n",
    " '6 down': {'down': '5 up',\n",
    "  'up': '2 down',\n",
    "  'right': '4 left',\n",
    "  'left': '3 right'},\n",
    " '6 left': {'left': '5 right',\n",
    "  'right': '2 left',\n",
    "  'down': '4 up',\n",
    "  'up': '3 down'}}"
   ]
  },
  {
   "cell_type": "code",
   "execution_count": 4,
   "metadata": {},
   "outputs": [],
   "source": [
    "def get_starting_position(grid_size):\n",
    "    starting_pos = [randint(1,grid_size),randint(1,grid_size)]\n",
    "    starting_face = choice([x for x in rotation_dict])\n",
    "        \n",
    "    return starting_pos, starting_face\n",
    "\n",
    "def make_path(grid_size, path_len):    \n",
    "    \n",
    "    starting_pos, starting_face = get_starting_position(grid_size)\n",
    "    current_pos = starting_pos[:]\n",
    "    current_face = starting_face\n",
    "    path_trace = [starting_pos]\n",
    "    current_path_len=1\n",
    "    \n",
    "    move_attempt = 1\n",
    "    \n",
    "    while current_path_len < path_len:\n",
    "        new_pos, new_face = single_move(current_pos, current_face, grid_size)\n",
    "        \n",
    "        if move_attempt>20:\n",
    "            break\n",
    "            \n",
    "        if new_pos in path_trace:\n",
    "            move_attempt+=1\n",
    "            continue\n",
    "        else:\n",
    "            tries=1\n",
    "            path_trace.append(new_pos)\n",
    "            current_pos = new_pos\n",
    "            current_face = new_face\n",
    "            current_path_len+=1\n",
    "            \n",
    "    return starting_pos, starting_face, current_pos, current_face, path_trace\n",
    "\n",
    "def single_move(current_pos, current_face, grid_size):\n",
    "    new_pos = current_pos[:]\n",
    "    oob_options = set()\n",
    "    \n",
    "    if current_pos[0] == 1:\n",
    "        oob_options.add('left')\n",
    "    elif current_pos[0] == grid_size:\n",
    "        oob_options.add('right')\n",
    "    if current_pos[1] == 1:\n",
    "        oob_options.add('down')\n",
    "    elif current_pos[1] == grid_size:\n",
    "        oob_options.add('up')\n",
    "    \n",
    "    legit_moves = {'up','right','left','down'} - oob_options\n",
    "    chosen_move = choice(list(legit_moves))\n",
    "    if chosen_move == 'up':\n",
    "        new_pos[1] +=1\n",
    "    elif chosen_move == 'down':\n",
    "        new_pos[1] -=1\n",
    "    elif chosen_move == 'right':\n",
    "        new_pos[0] +=1\n",
    "    elif chosen_move == 'left':\n",
    "        new_pos[0] -=1\n",
    "\n",
    "    new_face = rotation_dict[current_face][chosen_move]\n",
    "\n",
    "    return new_pos, new_face"
   ]
  },
  {
   "cell_type": "code",
   "execution_count": 5,
   "metadata": {},
   "outputs": [],
   "source": [
    "def make_fig(grid_size):\n",
    "    fig = go.Figure()\n",
    "    fig.layout.xaxis.visible=True\n",
    "    fig.layout.yaxis.visible=True\n",
    "    fig.layout.xaxis.range=(0,grid_size)\n",
    "    fig.layout.yaxis.range=(0,grid_size)\n",
    "    fig.layout.height=600\n",
    "    fig.layout.width=600\n",
    "    fig.update_yaxes(nticks=grid_size*2)\n",
    "    fig.update_xaxes(nticks=grid_size*2)\n",
    "    return fig\n",
    "\n",
    "def add_line(fig, start_pos, end_pos, color, offset=0):\n",
    "    fig.add_shape(\n",
    "        dict(\n",
    "            type=\"line\",\n",
    "            x0=start_pos[0]-0.5-offset,\n",
    "            y0=start_pos[1]-0.5-offset,\n",
    "            x1=end_pos[0]-0.5-offset,\n",
    "            y1=end_pos[1]-0.5-offset,\n",
    "            line=dict(\n",
    "                color=color,\n",
    "                width=3\n",
    "            )))\n",
    "\n",
    "def add_path(fig, path_traces, colors):\n",
    "    offset = 0\n",
    "    \n",
    "    for i, path_trace in enumerate(path_traces):\n",
    "        if not path_trace:\n",
    "            continue\n",
    "        color = colors[i]\n",
    "        for j, step in enumerate(path_trace):\n",
    "            if j<len(path_trace)-1:\n",
    "                add_line(fig, step, path_trace[j+1], color, offset)\n",
    "                \n",
    "        offset+=0.1       \n",
    "\n",
    "def add_labels(fig, annotation_set, colors):\n",
    "\n",
    "    def get_rotation(face):\n",
    "        if 'up' in face:\n",
    "            rotation = 0\n",
    "        elif 'right' in face:\n",
    "            rotation = 90\n",
    "        if 'down' in face:\n",
    "            rotation = 180\n",
    "        if 'left' in face:\n",
    "            rotation = 270\n",
    "        return rotation\n",
    "    \n",
    "    offset=0\n",
    "    annotations = []\n",
    "    \n",
    "    for i, label_set in enumerate(annotation_set):\n",
    "        starting_pos = label_set[0]\n",
    "        starting_face = label_set[1]\n",
    "        end_pos = label_set[2]\n",
    "        end_face = label_set[3]\n",
    "        \n",
    "        annotations.append(\n",
    "            go.layout.Annotation(\n",
    "                x=starting_pos[0]-0.5 - offset,\n",
    "                y=starting_pos[1]-0.5 - offset,\n",
    "                text=f\"<b>{starting_face.split(' ')[0]}</b>\",\n",
    "                align='center',\n",
    "                showarrow=False,\n",
    "                font={'size':38, 'color':colors[i]},\n",
    "                textangle=get_rotation(starting_face)\n",
    "            )\n",
    "        )\n",
    "        \n",
    "        annotations.append(\n",
    "            go.layout.Annotation(\n",
    "                    x=end_pos[0]-0.5 - offset,\n",
    "                    y=end_pos[1]-0.5 - offset,\n",
    "                    text=f\"<b>{end_face.split(' ')[0]}</b>\",\n",
    "                    align='center',\n",
    "                    showarrow=False,\n",
    "                    font={'size':38, 'color':colors[i]},\n",
    "                    textangle=get_rotation(end_face)\n",
    "            )\n",
    "        )\n",
    "    offset += 0.1\n",
    "\n",
    "    \n",
    "    fig.update_layout(\n",
    "        annotations=annotations\n",
    "    )\n",
    "    \n",
    "    return fig\n",
    "\n",
    "def shift_solution_make_incorrect(grid_size, current_pos):\n",
    "    oob_options = set()\n",
    "    new_pos = current_pos\n",
    "    \n",
    "    if current_pos[0] == 1:\n",
    "        oob_options.add('left')\n",
    "    elif current_pos[0] == grid_size:\n",
    "        oob_options.add('right')\n",
    "    if current_pos[1] == 1:\n",
    "        oob_options.add('down')\n",
    "    elif current_pos[1] == grid_size:\n",
    "        oob_options.add('up')\n",
    "    \n",
    "    legit_moves = {'up','right','left','down'} - oob_options\n",
    "    chosen_move = choice(list(legit_moves))\n",
    "    if chosen_move == 'up':\n",
    "        new_pos[1] +=1\n",
    "    elif chosen_move == 'down':\n",
    "        new_pos[1] -=1\n",
    "    elif chosen_move == 'right':\n",
    "        new_pos[0] +=1\n",
    "    elif chosen_move == 'left':\n",
    "        new_pos[0] -=1\n",
    "        \n",
    "    return new_pos\n",
    "\n",
    "def get_fake_solution(grid_size, path_len):\n",
    "    starting_pos, starting_face, current_pos, current_face, path_trace = make_path(grid_size, path_len)\n",
    "    current_pos = shift_solution_make_incorrect(grid_size, current_pos)\n",
    "    return starting_pos, starting_face, current_pos, current_face\n"
   ]
  },
  {
   "cell_type": "code",
   "execution_count": 6,
   "metadata": {},
   "outputs": [],
   "source": [
    "def add_labels_from_map(fig, map_, colors):\n",
    "    \"\"\"\n",
    "    same as the other one, but now takes input from Greg's cool code.\n",
    "    \"\"\"\n",
    "    offset=0\n",
    "    annotations = []\n",
    "    \n",
    "    for i, face_pair in enumerate(map_['pairs']):\n",
    "        starting_pos = face_pair[0]['pos']\n",
    "        starting_face = face_pair[0]['face']\n",
    "        starting_rotation = face_pair[0]['angle']\n",
    "        end_pos = face_pair [1]['pos']\n",
    "        end_face = face_pair[1]['face']\n",
    "        end_rotation = face_pair[1]['angle']\n",
    "        \n",
    "        annotations.extend([\n",
    "            # Start and end faces\n",
    "            go.layout.Annotation(\n",
    "                x=starting_pos[0]-0.5 - offset,\n",
    "                y=starting_pos[1]-0.5 - offset,\n",
    "                text=f\"<b>{str(starting_face)}</b>\",\n",
    "                align='center',\n",
    "                showarrow=False,\n",
    "                font={'size':38, 'color':colors[i], 'family':'acumen pro'},\n",
    "                textangle=starting_rotation\n",
    "            ),\n",
    "            go.layout.Annotation(\n",
    "                x=end_pos[0]-0.5 - offset,\n",
    "                y=end_pos[1]-0.5 - offset,\n",
    "                text=f\"<b>{str(end_face)}</b>\",\n",
    "                align='center',\n",
    "                showarrow=False,\n",
    "                font={'size':38, 'color':colors[i], 'family':'acumen pro'},\n",
    "                textangle=end_rotation\n",
    "            ),\n",
    "            # Set Labels\n",
    "            go.layout.Annotation(\n",
    "                x=starting_pos[0]-0.9 - offset,\n",
    "                y=starting_pos[1] - 0.1 - offset,\n",
    "                text=f\"{str(i+1)}\",\n",
    "                align='center',\n",
    "                showarrow=False,\n",
    "                font={'size':16, 'color':'black', 'family':'acumen pro'},\n",
    "                textangle=0\n",
    "            ),\n",
    "            go.layout.Annotation(\n",
    "                x=end_pos[0]-0.9 - offset,\n",
    "                y=end_pos[1]-0.1 - offset,\n",
    "                text=f\"{str(i+1)}\",\n",
    "                align='center',\n",
    "                showarrow=False,\n",
    "                font={'size':16, 'color':'black', 'family':'acumen pro'},\n",
    "                textangle=0\n",
    "\n",
    "            )         \n",
    "        ])\n",
    "        \n",
    "#         for block in map_['blocks']:\n",
    "#             annotations.append(\n",
    "#                 go.layout.Annotation(\n",
    "#                     x=block[0] - 0.5,\n",
    "#                     y=block[1] - 0.5,\n",
    "#                     text=\"X\",\n",
    "#                     align='center',\n",
    "#                     showarrow=False,\n",
    "#                     font={'size':25, 'color':'red', 'family':'helvetica neue'},\n",
    "#                     textangle=0\n",
    "\n",
    "#                 )\n",
    "#             )\n",
    "            \n",
    "    offset += 0.1\n",
    "\n",
    "    \n",
    "    fig.update_layout(\n",
    "        annotations=annotations\n",
    "    )\n",
    "    \n",
    "    return fig"
   ]
  },
  {
   "cell_type": "code",
   "execution_count": 7,
   "metadata": {},
   "outputs": [],
   "source": [
    "def add_blocks(fig, map_):\n",
    "    \n",
    "    for block in map_['blocks']:\n",
    "             fig.add_shape(\n",
    "                 type=\"rect\",\n",
    "                 x0 = block[0] - 1,\n",
    "                 y0 = block[1] - 1,\n",
    "                 x1 = block[0],\n",
    "                 y1 = block[1],\n",
    "                 fillcolor=\"#999999\",\n",
    "                 line={'color':'#666666','width':1},\n",
    "                 )\n",
    "    \n",
    "#                 go.layout.Annotation(\n",
    "#                     x=block[0] - 0.5,\n",
    "#                     y=block[1] - 0.5,\n",
    "#                     text=\"X\",\n",
    "#                     align='center',\n",
    "#                     showarrow=False,\n",
    "#                     font={'size':25, 'color':'red', 'family':'helvetica neue'},\n",
    "#                     textangle=0\n",
    "\n",
    "#                 )\n",
    "#             )"
   ]
  },
  {
   "cell_type": "code",
   "execution_count": 8,
   "metadata": {},
   "outputs": [],
   "source": [
    "def make_grid(grid_size, real_solutions, fake_solutions, path_length_min, path_length_max):\n",
    "    \n",
    "    reals = ['#C3A067','#bb9394','#004b65','#414042','red','green','blue']\n",
    "    fakes = ['black','blue','ForestGreen']\n",
    "    colors = reals[:real_solutions] + fakes[:fake_solutions] \n",
    "    \n",
    "    fig = make_fig(grid_size)\n",
    "    \n",
    "    label_sets = []\n",
    "    path_traces = []\n",
    "    used_squares = []\n",
    "    traces_added = 0\n",
    "    fake_traces_added = 0\n",
    "    while traces_added < real_solutions:\n",
    "        starting_pos, starting_face, end_pos, end_face, path_trace = make_path(grid_size, path_len=randint(path_length_min,path_length_max))      \n",
    "        \n",
    "        if starting_pos in used_squares or end_pos in used_squares:\n",
    "            continue\n",
    "        else:\n",
    "            label_sets.append([starting_pos, starting_face, end_pos, end_face])\n",
    "            used_squares.extend([starting_pos, end_pos])\n",
    "            path_traces.append(path_trace)\n",
    "            traces_added+=1\n",
    "            \n",
    "    while fake_traces_added < fake_solutions:\n",
    "        starting_pos, starting_face, end_pos, end_face = get_fake_solution(grid_size, path_len=randint(path_length_min,path_length_max))\n",
    "        \n",
    "        if starting_pos in used_squares or end_pos in used_squares:\n",
    "            continue\n",
    "        \n",
    "        else:\n",
    "            label_sets.append([starting_pos, starting_face, end_pos, end_face])\n",
    "            used_squares.extend([starting_pos, end_pos])\n",
    "            fake_traces_added+=1\n",
    "\n",
    "    add_path(fig, path_traces, colors)\n",
    "    add_labels(fig, label_sets, colors)\n",
    "    \n",
    "    return fig"
   ]
  },
  {
   "cell_type": "code",
   "execution_count": 9,
   "metadata": {},
   "outputs": [],
   "source": [
    "def map_map(map_, grid_size):\n",
    "    \n",
    "    colors =  ['#C3A067','#bb9394','#004b65','#414042'] * 3\n",
    "    \n",
    "    fig = make_fig(grid_size)\n",
    "    \n",
    "    add_path(fig, map_['solutions'], colors)\n",
    "    add_labels_from_map(fig, map_, colors)\n",
    "    add_blocks(fig, map_)\n",
    "    \n",
    "    return fig"
   ]
  },
  {
   "cell_type": "code",
   "execution_count": 10,
   "metadata": {},
   "outputs": [],
   "source": [
    "def save_grid(n, grid_size, pair_count, blocks=False, min_length=2, fpath='images/'):\n",
    "    for i in range(n):\n",
    "\n",
    "        dice_game.GRID_SIZE= grid_size\n",
    "        \n",
    "        map_ = dice_game.generate_map(\n",
    "            pair_count=pair_count,\n",
    "            add_block=blocks,\n",
    "            min_length=min_length,\n",
    "            strict_impossible=False\n",
    "            )\n",
    "        fig = map_map(map_, grid_size=dice_game.GRID_SIZE)\n",
    "        fig.write_image(f\"{fpath}{dice_game.GRID_SIZE}x{dice_game.GRID_SIZE}-{pair_count}-{i}\", format='pdf')"
   ]
  },
  {
   "cell_type": "code",
   "execution_count": 11,
   "metadata": {},
   "outputs": [
    {
     "ename": "ValueError",
     "evalue": "\nThe orca executable is required to export figures as static images,\nbut it could not be found on the system path.\n\nSearched for executable 'orca' on the following path:\n    C:\\Program Files (x86)\\Common Files\\Intel\\Shared Libraries\\redist\\ia32\\compiler\n    C:\\Program Files (x86)\\Common Files\\Intel\\Shared Libraries\\redist\\intel64\\compiler\n    C:\\Program Files\\Oculus\\Support\\oculus-runtime\n    C:\\Windows\\system32\n    C:\\Windows\n    C:\\Windows\\System32\\Wbem\n    C:\\Windows\\System32\\WindowsPowerShell\\v1.0\\\n    C:\\Windows\\System32\\OpenSSH\\\n    C:\\Program Files (x86)\\NVIDIA Corporation\\PhysX\\Common\n    C:\\Program Files (x86)\\Calibre2\\\n    C:\\Users\\robmd\\AppData\\Local\\Programs\\Python\\Python38-32\\Scripts\\\n    C:\\Users\\robmd\\AppData\\Local\\Programs\\Python\\Python38-32\\\n    C:\\Users\\robmd\\AppData\\Local\\Microsoft\\WindowsApps\n    C:\\Users\\robmd\\AppData\\Local\\GitHubDesktop\\bin\n    C:\\Users\\robmd\\AppData\\Local\\Programs\\Microsoft VS Code\\bin\n\nIf you haven't installed orca yet, you can do so using conda as follows:\n\n    $ conda install -c plotly plotly-orca\n\nAlternatively, see other installation methods in the orca project README at\nhttps://github.com/plotly/orca\n\nAfter installation is complete, no further configuration should be needed.\n\nIf you have installed orca, then for some reason plotly.py was unable to\nlocate it. In this case, set the `plotly.io.orca.config.executable`\nproperty to the full path of your orca executable. For example:\n\n    >>> plotly.io.orca.config.executable = '/path/to/orca'\n\nAfter updating this executable property, try the export operation again.\nIf it is successful then you may want to save this configuration so that it\nwill be applied automatically in future sessions. You can do this as follows:\n\n    >>> plotly.io.orca.config.save()\n\nIf you're still having trouble, feel free to ask for help on the forums at\nhttps://community.plot.ly/c/api/python\n",
     "output_type": "error",
     "traceback": [
      "\u001b[1;31m---------------------------------------------------------------------------\u001b[0m",
      "\u001b[1;31mValueError\u001b[0m                                Traceback (most recent call last)",
      "\u001b[1;32m<ipython-input-11-82c1bc025b74>\u001b[0m in \u001b[0;36m<module>\u001b[1;34m\u001b[0m\n\u001b[1;32m----> 1\u001b[1;33m \u001b[0msave_grid\u001b[0m\u001b[1;33m(\u001b[0m\u001b[1;36m20\u001b[0m\u001b[1;33m,\u001b[0m \u001b[1;36m4\u001b[0m\u001b[1;33m,\u001b[0m \u001b[1;36m2\u001b[0m\u001b[1;33m,\u001b[0m \u001b[1;32mFalse\u001b[0m\u001b[1;33m,\u001b[0m \u001b[1;36m3\u001b[0m\u001b[1;33m)\u001b[0m\u001b[1;33m\u001b[0m\u001b[1;33m\u001b[0m\u001b[0m\n\u001b[0m",
      "\u001b[1;32m<ipython-input-10-ca2bd21fc7f7>\u001b[0m in \u001b[0;36msave_grid\u001b[1;34m(n, grid_size, pair_count, blocks, min_length, fpath)\u001b[0m\n\u001b[0;32m     11\u001b[0m             )\n\u001b[0;32m     12\u001b[0m         \u001b[0mfig\u001b[0m \u001b[1;33m=\u001b[0m \u001b[0mmap_map\u001b[0m\u001b[1;33m(\u001b[0m\u001b[0mmap_\u001b[0m\u001b[1;33m,\u001b[0m \u001b[0mgrid_size\u001b[0m\u001b[1;33m=\u001b[0m\u001b[0mdice_game\u001b[0m\u001b[1;33m.\u001b[0m\u001b[0mGRID_SIZE\u001b[0m\u001b[1;33m)\u001b[0m\u001b[1;33m\u001b[0m\u001b[1;33m\u001b[0m\u001b[0m\n\u001b[1;32m---> 13\u001b[1;33m         \u001b[0mfig\u001b[0m\u001b[1;33m.\u001b[0m\u001b[0mwrite_image\u001b[0m\u001b[1;33m(\u001b[0m\u001b[1;34mf\"{fpath}{dice_game.GRID_SIZE}x{dice_game.GRID_SIZE}-{pair_count}-{i}\"\u001b[0m\u001b[1;33m,\u001b[0m \u001b[0mformat\u001b[0m\u001b[1;33m=\u001b[0m\u001b[1;34m'pdf'\u001b[0m\u001b[1;33m)\u001b[0m\u001b[1;33m\u001b[0m\u001b[1;33m\u001b[0m\u001b[0m\n\u001b[0m",
      "\u001b[1;32mc:\\users\\robmd\\appdata\\local\\programs\\python\\python38-32\\lib\\site-packages\\plotly\\basedatatypes.py\u001b[0m in \u001b[0;36mwrite_image\u001b[1;34m(self, *args, **kwargs)\u001b[0m\n\u001b[0;32m   2822\u001b[0m         \u001b[1;32mimport\u001b[0m \u001b[0mplotly\u001b[0m\u001b[1;33m.\u001b[0m\u001b[0mio\u001b[0m \u001b[1;32mas\u001b[0m \u001b[0mpio\u001b[0m\u001b[1;33m\u001b[0m\u001b[1;33m\u001b[0m\u001b[0m\n\u001b[0;32m   2823\u001b[0m \u001b[1;33m\u001b[0m\u001b[0m\n\u001b[1;32m-> 2824\u001b[1;33m         \u001b[1;32mreturn\u001b[0m \u001b[0mpio\u001b[0m\u001b[1;33m.\u001b[0m\u001b[0mwrite_image\u001b[0m\u001b[1;33m(\u001b[0m\u001b[0mself\u001b[0m\u001b[1;33m,\u001b[0m \u001b[1;33m*\u001b[0m\u001b[0margs\u001b[0m\u001b[1;33m,\u001b[0m \u001b[1;33m**\u001b[0m\u001b[0mkwargs\u001b[0m\u001b[1;33m)\u001b[0m\u001b[1;33m\u001b[0m\u001b[1;33m\u001b[0m\u001b[0m\n\u001b[0m\u001b[0;32m   2825\u001b[0m \u001b[1;33m\u001b[0m\u001b[0m\n\u001b[0;32m   2826\u001b[0m     \u001b[1;31m# Static helpers\u001b[0m\u001b[1;33m\u001b[0m\u001b[1;33m\u001b[0m\u001b[1;33m\u001b[0m\u001b[0m\n",
      "\u001b[1;32mc:\\users\\robmd\\appdata\\local\\programs\\python\\python38-32\\lib\\site-packages\\plotly\\io\\_orca.py\u001b[0m in \u001b[0;36mwrite_image\u001b[1;34m(fig, file, format, scale, width, height, validate)\u001b[0m\n\u001b[0;32m   1767\u001b[0m     \u001b[1;31m# -------------\u001b[0m\u001b[1;33m\u001b[0m\u001b[1;33m\u001b[0m\u001b[1;33m\u001b[0m\u001b[0m\n\u001b[0;32m   1768\u001b[0m     \u001b[1;31m# Do this first so we don't create a file if image conversion fails\u001b[0m\u001b[1;33m\u001b[0m\u001b[1;33m\u001b[0m\u001b[1;33m\u001b[0m\u001b[0m\n\u001b[1;32m-> 1769\u001b[1;33m     img_data = to_image(\n\u001b[0m\u001b[0;32m   1770\u001b[0m         \u001b[0mfig\u001b[0m\u001b[1;33m,\u001b[0m \u001b[0mformat\u001b[0m\u001b[1;33m=\u001b[0m\u001b[0mformat\u001b[0m\u001b[1;33m,\u001b[0m \u001b[0mscale\u001b[0m\u001b[1;33m=\u001b[0m\u001b[0mscale\u001b[0m\u001b[1;33m,\u001b[0m \u001b[0mwidth\u001b[0m\u001b[1;33m=\u001b[0m\u001b[0mwidth\u001b[0m\u001b[1;33m,\u001b[0m \u001b[0mheight\u001b[0m\u001b[1;33m=\u001b[0m\u001b[0mheight\u001b[0m\u001b[1;33m,\u001b[0m \u001b[0mvalidate\u001b[0m\u001b[1;33m=\u001b[0m\u001b[0mvalidate\u001b[0m\u001b[1;33m\u001b[0m\u001b[1;33m\u001b[0m\u001b[0m\n\u001b[0;32m   1771\u001b[0m     )\n",
      "\u001b[1;32mc:\\users\\robmd\\appdata\\local\\programs\\python\\python38-32\\lib\\site-packages\\plotly\\io\\_orca.py\u001b[0m in \u001b[0;36mto_image\u001b[1;34m(fig, format, width, height, scale, validate)\u001b[0m\n\u001b[0;32m   1533\u001b[0m     \u001b[1;31m# Make sure orca sever is running\u001b[0m\u001b[1;33m\u001b[0m\u001b[1;33m\u001b[0m\u001b[1;33m\u001b[0m\u001b[0m\n\u001b[0;32m   1534\u001b[0m     \u001b[1;31m# -------------------------------\u001b[0m\u001b[1;33m\u001b[0m\u001b[1;33m\u001b[0m\u001b[1;33m\u001b[0m\u001b[0m\n\u001b[1;32m-> 1535\u001b[1;33m     \u001b[0mensure_server\u001b[0m\u001b[1;33m(\u001b[0m\u001b[1;33m)\u001b[0m\u001b[1;33m\u001b[0m\u001b[1;33m\u001b[0m\u001b[0m\n\u001b[0m\u001b[0;32m   1536\u001b[0m \u001b[1;33m\u001b[0m\u001b[0m\n\u001b[0;32m   1537\u001b[0m     \u001b[1;31m# Handle defaults\u001b[0m\u001b[1;33m\u001b[0m\u001b[1;33m\u001b[0m\u001b[1;33m\u001b[0m\u001b[0m\n",
      "\u001b[1;32mc:\\users\\robmd\\appdata\\local\\programs\\python\\python38-32\\lib\\site-packages\\plotly\\io\\_orca.py\u001b[0m in \u001b[0;36mensure_server\u001b[1;34m()\u001b[0m\n\u001b[0;32m   1388\u001b[0m         \u001b[1;31m# Validate orca executable only if server_url is not provided\u001b[0m\u001b[1;33m\u001b[0m\u001b[1;33m\u001b[0m\u001b[1;33m\u001b[0m\u001b[0m\n\u001b[0;32m   1389\u001b[0m         \u001b[1;32mif\u001b[0m \u001b[0mstatus\u001b[0m\u001b[1;33m.\u001b[0m\u001b[0mstate\u001b[0m \u001b[1;33m==\u001b[0m \u001b[1;34m\"unvalidated\"\u001b[0m\u001b[1;33m:\u001b[0m\u001b[1;33m\u001b[0m\u001b[1;33m\u001b[0m\u001b[0m\n\u001b[1;32m-> 1390\u001b[1;33m             \u001b[0mvalidate_executable\u001b[0m\u001b[1;33m(\u001b[0m\u001b[1;33m)\u001b[0m\u001b[1;33m\u001b[0m\u001b[1;33m\u001b[0m\u001b[0m\n\u001b[0m\u001b[0;32m   1391\u001b[0m         \u001b[1;31m# Acquire lock to make sure that we keep the properties of orca_state\u001b[0m\u001b[1;33m\u001b[0m\u001b[1;33m\u001b[0m\u001b[1;33m\u001b[0m\u001b[0m\n\u001b[0;32m   1392\u001b[0m         \u001b[1;31m# consistent across threads\u001b[0m\u001b[1;33m\u001b[0m\u001b[1;33m\u001b[0m\u001b[1;33m\u001b[0m\u001b[0m\n",
      "\u001b[1;32mc:\\users\\robmd\\appdata\\local\\programs\\python\\python38-32\\lib\\site-packages\\plotly\\io\\_orca.py\u001b[0m in \u001b[0;36mvalidate_executable\u001b[1;34m()\u001b[0m\n\u001b[0;32m   1074\u001b[0m \u001b[1;33m\u001b[0m\u001b[0m\n\u001b[0;32m   1075\u001b[0m     \u001b[1;32mif\u001b[0m \u001b[0mexecutable\u001b[0m \u001b[1;32mis\u001b[0m \u001b[1;32mNone\u001b[0m\u001b[1;33m:\u001b[0m\u001b[1;33m\u001b[0m\u001b[1;33m\u001b[0m\u001b[0m\n\u001b[1;32m-> 1076\u001b[1;33m         raise ValueError(\n\u001b[0m\u001b[0;32m   1077\u001b[0m             \"\"\"\n\u001b[0;32m   1078\u001b[0m \u001b[0mThe\u001b[0m \u001b[0morca\u001b[0m \u001b[0mexecutable\u001b[0m \u001b[1;32mis\u001b[0m \u001b[0mrequired\u001b[0m \u001b[0mto\u001b[0m \u001b[0mexport\u001b[0m \u001b[0mfigures\u001b[0m \u001b[1;32mas\u001b[0m \u001b[0mstatic\u001b[0m \u001b[0mimages\u001b[0m\u001b[1;33m,\u001b[0m\u001b[1;33m\u001b[0m\u001b[1;33m\u001b[0m\u001b[0m\n",
      "\u001b[1;31mValueError\u001b[0m: \nThe orca executable is required to export figures as static images,\nbut it could not be found on the system path.\n\nSearched for executable 'orca' on the following path:\n    C:\\Program Files (x86)\\Common Files\\Intel\\Shared Libraries\\redist\\ia32\\compiler\n    C:\\Program Files (x86)\\Common Files\\Intel\\Shared Libraries\\redist\\intel64\\compiler\n    C:\\Program Files\\Oculus\\Support\\oculus-runtime\n    C:\\Windows\\system32\n    C:\\Windows\n    C:\\Windows\\System32\\Wbem\n    C:\\Windows\\System32\\WindowsPowerShell\\v1.0\\\n    C:\\Windows\\System32\\OpenSSH\\\n    C:\\Program Files (x86)\\NVIDIA Corporation\\PhysX\\Common\n    C:\\Program Files (x86)\\Calibre2\\\n    C:\\Users\\robmd\\AppData\\Local\\Programs\\Python\\Python38-32\\Scripts\\\n    C:\\Users\\robmd\\AppData\\Local\\Programs\\Python\\Python38-32\\\n    C:\\Users\\robmd\\AppData\\Local\\Microsoft\\WindowsApps\n    C:\\Users\\robmd\\AppData\\Local\\GitHubDesktop\\bin\n    C:\\Users\\robmd\\AppData\\Local\\Programs\\Microsoft VS Code\\bin\n\nIf you haven't installed orca yet, you can do so using conda as follows:\n\n    $ conda install -c plotly plotly-orca\n\nAlternatively, see other installation methods in the orca project README at\nhttps://github.com/plotly/orca\n\nAfter installation is complete, no further configuration should be needed.\n\nIf you have installed orca, then for some reason plotly.py was unable to\nlocate it. In this case, set the `plotly.io.orca.config.executable`\nproperty to the full path of your orca executable. For example:\n\n    >>> plotly.io.orca.config.executable = '/path/to/orca'\n\nAfter updating this executable property, try the export operation again.\nIf it is successful then you may want to save this configuration so that it\nwill be applied automatically in future sessions. You can do this as follows:\n\n    >>> plotly.io.orca.config.save()\n\nIf you're still having trouble, feel free to ask for help on the forums at\nhttps://community.plot.ly/c/api/python\n"
     ]
    }
   ],
   "source": [
    "save_grid(20, 4, 2, False, 3)"
   ]
  },
  {
   "cell_type": "code",
   "execution_count": 255,
   "metadata": {},
   "outputs": [
    {
     "data": {
      "application/vnd.plotly.v1+json": {
       "config": {
        "plotlyServerURL": "https://plot.ly"
       },
       "data": [],
       "layout": {
        "annotations": [
         {
          "align": "center",
          "font": {
           "color": "#C3A067",
           "family": "acumen pro",
           "size": 38
          },
          "showarrow": false,
          "text": "<b>3</b>",
          "textangle": -90,
          "x": 2.5,
          "y": 0.5
         },
         {
          "align": "center",
          "font": {
           "color": "#C3A067",
           "family": "acumen pro",
           "size": 38
          },
          "showarrow": false,
          "text": "<b>2</b>",
          "textangle": 0,
          "x": 0.5,
          "y": 0.5
         },
         {
          "align": "center",
          "font": {
           "color": "black",
           "family": "acumen pro",
           "size": 16
          },
          "showarrow": false,
          "text": "1",
          "textangle": 0,
          "x": 2.1,
          "y": 0.9
         },
         {
          "align": "center",
          "font": {
           "color": "black",
           "family": "acumen pro",
           "size": 16
          },
          "showarrow": false,
          "text": "1",
          "textangle": 0,
          "x": 0.09999999999999998,
          "y": 0.9
         },
         {
          "align": "center",
          "font": {
           "color": "#bb9394",
           "family": "acumen pro",
           "size": 38
          },
          "showarrow": false,
          "text": "<b>1</b>",
          "textangle": -90,
          "x": 3.5,
          "y": 2.5
         },
         {
          "align": "center",
          "font": {
           "color": "#bb9394",
           "family": "acumen pro",
           "size": 38
          },
          "showarrow": false,
          "text": "<b>5</b>",
          "textangle": -180,
          "x": 0.5,
          "y": 2.5
         },
         {
          "align": "center",
          "font": {
           "color": "black",
           "family": "acumen pro",
           "size": 16
          },
          "showarrow": false,
          "text": "2",
          "textangle": 0,
          "x": 3.1,
          "y": 2.9
         },
         {
          "align": "center",
          "font": {
           "color": "black",
           "family": "acumen pro",
           "size": 16
          },
          "showarrow": false,
          "text": "2",
          "textangle": 0,
          "x": 0.09999999999999998,
          "y": 2.9
         }
        ],
        "height": 600,
        "shapes": [
         {
          "line": {
           "color": "#C3A067",
           "width": 3
          },
          "type": "line",
          "x0": 2.5,
          "x1": 2.5,
          "y0": 0.5,
          "y1": 1.5
         },
         {
          "line": {
           "color": "#C3A067",
           "width": 3
          },
          "type": "line",
          "x0": 2.5,
          "x1": 3.5,
          "y0": 1.5,
          "y1": 1.5
         },
         {
          "line": {
           "color": "#C3A067",
           "width": 3
          },
          "type": "line",
          "x0": 3.5,
          "x1": 3.5,
          "y0": 1.5,
          "y1": 2.5
         },
         {
          "line": {
           "color": "#C3A067",
           "width": 3
          },
          "type": "line",
          "x0": 3.5,
          "x1": 2.5,
          "y0": 2.5,
          "y1": 2.5
         },
         {
          "line": {
           "color": "#C3A067",
           "width": 3
          },
          "type": "line",
          "x0": 2.5,
          "x1": 2.5,
          "y0": 2.5,
          "y1": 3.5
         },
         {
          "line": {
           "color": "#C3A067",
           "width": 3
          },
          "type": "line",
          "x0": 2.5,
          "x1": 1.5,
          "y0": 3.5,
          "y1": 3.5
         },
         {
          "line": {
           "color": "#C3A067",
           "width": 3
          },
          "type": "line",
          "x0": 1.5,
          "x1": 0.5,
          "y0": 3.5,
          "y1": 3.5
         },
         {
          "line": {
           "color": "#C3A067",
           "width": 3
          },
          "type": "line",
          "x0": 0.5,
          "x1": 0.5,
          "y0": 3.5,
          "y1": 2.5
         },
         {
          "line": {
           "color": "#C3A067",
           "width": 3
          },
          "type": "line",
          "x0": 0.5,
          "x1": 0.5,
          "y0": 2.5,
          "y1": 1.5
         },
         {
          "line": {
           "color": "#C3A067",
           "width": 3
          },
          "type": "line",
          "x0": 0.5,
          "x1": 0.5,
          "y0": 1.5,
          "y1": 0.5
         },
         {
          "fillcolor": "#999999",
          "line": {
           "color": "#666666",
           "width": 1
          },
          "type": "rect",
          "x0": 1,
          "x1": 2,
          "y0": 0,
          "y1": 1
         }
        ],
        "template": {
         "data": {
          "bar": [
           {
            "error_x": {
             "color": "#2a3f5f"
            },
            "error_y": {
             "color": "#2a3f5f"
            },
            "marker": {
             "line": {
              "color": "#E5ECF6",
              "width": 0.5
             }
            },
            "type": "bar"
           }
          ],
          "barpolar": [
           {
            "marker": {
             "line": {
              "color": "#E5ECF6",
              "width": 0.5
             }
            },
            "type": "barpolar"
           }
          ],
          "carpet": [
           {
            "aaxis": {
             "endlinecolor": "#2a3f5f",
             "gridcolor": "white",
             "linecolor": "white",
             "minorgridcolor": "white",
             "startlinecolor": "#2a3f5f"
            },
            "baxis": {
             "endlinecolor": "#2a3f5f",
             "gridcolor": "white",
             "linecolor": "white",
             "minorgridcolor": "white",
             "startlinecolor": "#2a3f5f"
            },
            "type": "carpet"
           }
          ],
          "choropleth": [
           {
            "colorbar": {
             "outlinewidth": 0,
             "ticks": ""
            },
            "type": "choropleth"
           }
          ],
          "contour": [
           {
            "colorbar": {
             "outlinewidth": 0,
             "ticks": ""
            },
            "colorscale": [
             [
              0,
              "#0d0887"
             ],
             [
              0.1111111111111111,
              "#46039f"
             ],
             [
              0.2222222222222222,
              "#7201a8"
             ],
             [
              0.3333333333333333,
              "#9c179e"
             ],
             [
              0.4444444444444444,
              "#bd3786"
             ],
             [
              0.5555555555555556,
              "#d8576b"
             ],
             [
              0.6666666666666666,
              "#ed7953"
             ],
             [
              0.7777777777777778,
              "#fb9f3a"
             ],
             [
              0.8888888888888888,
              "#fdca26"
             ],
             [
              1,
              "#f0f921"
             ]
            ],
            "type": "contour"
           }
          ],
          "contourcarpet": [
           {
            "colorbar": {
             "outlinewidth": 0,
             "ticks": ""
            },
            "type": "contourcarpet"
           }
          ],
          "heatmap": [
           {
            "colorbar": {
             "outlinewidth": 0,
             "ticks": ""
            },
            "colorscale": [
             [
              0,
              "#0d0887"
             ],
             [
              0.1111111111111111,
              "#46039f"
             ],
             [
              0.2222222222222222,
              "#7201a8"
             ],
             [
              0.3333333333333333,
              "#9c179e"
             ],
             [
              0.4444444444444444,
              "#bd3786"
             ],
             [
              0.5555555555555556,
              "#d8576b"
             ],
             [
              0.6666666666666666,
              "#ed7953"
             ],
             [
              0.7777777777777778,
              "#fb9f3a"
             ],
             [
              0.8888888888888888,
              "#fdca26"
             ],
             [
              1,
              "#f0f921"
             ]
            ],
            "type": "heatmap"
           }
          ],
          "heatmapgl": [
           {
            "colorbar": {
             "outlinewidth": 0,
             "ticks": ""
            },
            "colorscale": [
             [
              0,
              "#0d0887"
             ],
             [
              0.1111111111111111,
              "#46039f"
             ],
             [
              0.2222222222222222,
              "#7201a8"
             ],
             [
              0.3333333333333333,
              "#9c179e"
             ],
             [
              0.4444444444444444,
              "#bd3786"
             ],
             [
              0.5555555555555556,
              "#d8576b"
             ],
             [
              0.6666666666666666,
              "#ed7953"
             ],
             [
              0.7777777777777778,
              "#fb9f3a"
             ],
             [
              0.8888888888888888,
              "#fdca26"
             ],
             [
              1,
              "#f0f921"
             ]
            ],
            "type": "heatmapgl"
           }
          ],
          "histogram": [
           {
            "marker": {
             "colorbar": {
              "outlinewidth": 0,
              "ticks": ""
             }
            },
            "type": "histogram"
           }
          ],
          "histogram2d": [
           {
            "colorbar": {
             "outlinewidth": 0,
             "ticks": ""
            },
            "colorscale": [
             [
              0,
              "#0d0887"
             ],
             [
              0.1111111111111111,
              "#46039f"
             ],
             [
              0.2222222222222222,
              "#7201a8"
             ],
             [
              0.3333333333333333,
              "#9c179e"
             ],
             [
              0.4444444444444444,
              "#bd3786"
             ],
             [
              0.5555555555555556,
              "#d8576b"
             ],
             [
              0.6666666666666666,
              "#ed7953"
             ],
             [
              0.7777777777777778,
              "#fb9f3a"
             ],
             [
              0.8888888888888888,
              "#fdca26"
             ],
             [
              1,
              "#f0f921"
             ]
            ],
            "type": "histogram2d"
           }
          ],
          "histogram2dcontour": [
           {
            "colorbar": {
             "outlinewidth": 0,
             "ticks": ""
            },
            "colorscale": [
             [
              0,
              "#0d0887"
             ],
             [
              0.1111111111111111,
              "#46039f"
             ],
             [
              0.2222222222222222,
              "#7201a8"
             ],
             [
              0.3333333333333333,
              "#9c179e"
             ],
             [
              0.4444444444444444,
              "#bd3786"
             ],
             [
              0.5555555555555556,
              "#d8576b"
             ],
             [
              0.6666666666666666,
              "#ed7953"
             ],
             [
              0.7777777777777778,
              "#fb9f3a"
             ],
             [
              0.8888888888888888,
              "#fdca26"
             ],
             [
              1,
              "#f0f921"
             ]
            ],
            "type": "histogram2dcontour"
           }
          ],
          "mesh3d": [
           {
            "colorbar": {
             "outlinewidth": 0,
             "ticks": ""
            },
            "type": "mesh3d"
           }
          ],
          "parcoords": [
           {
            "line": {
             "colorbar": {
              "outlinewidth": 0,
              "ticks": ""
             }
            },
            "type": "parcoords"
           }
          ],
          "pie": [
           {
            "automargin": true,
            "type": "pie"
           }
          ],
          "scatter": [
           {
            "marker": {
             "colorbar": {
              "outlinewidth": 0,
              "ticks": ""
             }
            },
            "type": "scatter"
           }
          ],
          "scatter3d": [
           {
            "line": {
             "colorbar": {
              "outlinewidth": 0,
              "ticks": ""
             }
            },
            "marker": {
             "colorbar": {
              "outlinewidth": 0,
              "ticks": ""
             }
            },
            "type": "scatter3d"
           }
          ],
          "scattercarpet": [
           {
            "marker": {
             "colorbar": {
              "outlinewidth": 0,
              "ticks": ""
             }
            },
            "type": "scattercarpet"
           }
          ],
          "scattergeo": [
           {
            "marker": {
             "colorbar": {
              "outlinewidth": 0,
              "ticks": ""
             }
            },
            "type": "scattergeo"
           }
          ],
          "scattergl": [
           {
            "marker": {
             "colorbar": {
              "outlinewidth": 0,
              "ticks": ""
             }
            },
            "type": "scattergl"
           }
          ],
          "scattermapbox": [
           {
            "marker": {
             "colorbar": {
              "outlinewidth": 0,
              "ticks": ""
             }
            },
            "type": "scattermapbox"
           }
          ],
          "scatterpolar": [
           {
            "marker": {
             "colorbar": {
              "outlinewidth": 0,
              "ticks": ""
             }
            },
            "type": "scatterpolar"
           }
          ],
          "scatterpolargl": [
           {
            "marker": {
             "colorbar": {
              "outlinewidth": 0,
              "ticks": ""
             }
            },
            "type": "scatterpolargl"
           }
          ],
          "scatterternary": [
           {
            "marker": {
             "colorbar": {
              "outlinewidth": 0,
              "ticks": ""
             }
            },
            "type": "scatterternary"
           }
          ],
          "surface": [
           {
            "colorbar": {
             "outlinewidth": 0,
             "ticks": ""
            },
            "colorscale": [
             [
              0,
              "#0d0887"
             ],
             [
              0.1111111111111111,
              "#46039f"
             ],
             [
              0.2222222222222222,
              "#7201a8"
             ],
             [
              0.3333333333333333,
              "#9c179e"
             ],
             [
              0.4444444444444444,
              "#bd3786"
             ],
             [
              0.5555555555555556,
              "#d8576b"
             ],
             [
              0.6666666666666666,
              "#ed7953"
             ],
             [
              0.7777777777777778,
              "#fb9f3a"
             ],
             [
              0.8888888888888888,
              "#fdca26"
             ],
             [
              1,
              "#f0f921"
             ]
            ],
            "type": "surface"
           }
          ],
          "table": [
           {
            "cells": {
             "fill": {
              "color": "#EBF0F8"
             },
             "line": {
              "color": "white"
             }
            },
            "header": {
             "fill": {
              "color": "#C8D4E3"
             },
             "line": {
              "color": "white"
             }
            },
            "type": "table"
           }
          ]
         },
         "layout": {
          "annotationdefaults": {
           "arrowcolor": "#2a3f5f",
           "arrowhead": 0,
           "arrowwidth": 1
          },
          "coloraxis": {
           "colorbar": {
            "outlinewidth": 0,
            "ticks": ""
           }
          },
          "colorscale": {
           "diverging": [
            [
             0,
             "#8e0152"
            ],
            [
             0.1,
             "#c51b7d"
            ],
            [
             0.2,
             "#de77ae"
            ],
            [
             0.3,
             "#f1b6da"
            ],
            [
             0.4,
             "#fde0ef"
            ],
            [
             0.5,
             "#f7f7f7"
            ],
            [
             0.6,
             "#e6f5d0"
            ],
            [
             0.7,
             "#b8e186"
            ],
            [
             0.8,
             "#7fbc41"
            ],
            [
             0.9,
             "#4d9221"
            ],
            [
             1,
             "#276419"
            ]
           ],
           "sequential": [
            [
             0,
             "#0d0887"
            ],
            [
             0.1111111111111111,
             "#46039f"
            ],
            [
             0.2222222222222222,
             "#7201a8"
            ],
            [
             0.3333333333333333,
             "#9c179e"
            ],
            [
             0.4444444444444444,
             "#bd3786"
            ],
            [
             0.5555555555555556,
             "#d8576b"
            ],
            [
             0.6666666666666666,
             "#ed7953"
            ],
            [
             0.7777777777777778,
             "#fb9f3a"
            ],
            [
             0.8888888888888888,
             "#fdca26"
            ],
            [
             1,
             "#f0f921"
            ]
           ],
           "sequentialminus": [
            [
             0,
             "#0d0887"
            ],
            [
             0.1111111111111111,
             "#46039f"
            ],
            [
             0.2222222222222222,
             "#7201a8"
            ],
            [
             0.3333333333333333,
             "#9c179e"
            ],
            [
             0.4444444444444444,
             "#bd3786"
            ],
            [
             0.5555555555555556,
             "#d8576b"
            ],
            [
             0.6666666666666666,
             "#ed7953"
            ],
            [
             0.7777777777777778,
             "#fb9f3a"
            ],
            [
             0.8888888888888888,
             "#fdca26"
            ],
            [
             1,
             "#f0f921"
            ]
           ]
          },
          "colorway": [
           "#636efa",
           "#EF553B",
           "#00cc96",
           "#ab63fa",
           "#FFA15A",
           "#19d3f3",
           "#FF6692",
           "#B6E880",
           "#FF97FF",
           "#FECB52"
          ],
          "font": {
           "color": "#2a3f5f"
          },
          "geo": {
           "bgcolor": "white",
           "lakecolor": "white",
           "landcolor": "#E5ECF6",
           "showlakes": true,
           "showland": true,
           "subunitcolor": "white"
          },
          "hoverlabel": {
           "align": "left"
          },
          "hovermode": "closest",
          "mapbox": {
           "style": "light"
          },
          "paper_bgcolor": "white",
          "plot_bgcolor": "#E5ECF6",
          "polar": {
           "angularaxis": {
            "gridcolor": "white",
            "linecolor": "white",
            "ticks": ""
           },
           "bgcolor": "#E5ECF6",
           "radialaxis": {
            "gridcolor": "white",
            "linecolor": "white",
            "ticks": ""
           }
          },
          "scene": {
           "xaxis": {
            "backgroundcolor": "#E5ECF6",
            "gridcolor": "white",
            "gridwidth": 2,
            "linecolor": "white",
            "showbackground": true,
            "ticks": "",
            "zerolinecolor": "white"
           },
           "yaxis": {
            "backgroundcolor": "#E5ECF6",
            "gridcolor": "white",
            "gridwidth": 2,
            "linecolor": "white",
            "showbackground": true,
            "ticks": "",
            "zerolinecolor": "white"
           },
           "zaxis": {
            "backgroundcolor": "#E5ECF6",
            "gridcolor": "white",
            "gridwidth": 2,
            "linecolor": "white",
            "showbackground": true,
            "ticks": "",
            "zerolinecolor": "white"
           }
          },
          "shapedefaults": {
           "line": {
            "color": "#2a3f5f"
           }
          },
          "ternary": {
           "aaxis": {
            "gridcolor": "white",
            "linecolor": "white",
            "ticks": ""
           },
           "baxis": {
            "gridcolor": "white",
            "linecolor": "white",
            "ticks": ""
           },
           "bgcolor": "#E5ECF6",
           "caxis": {
            "gridcolor": "white",
            "linecolor": "white",
            "ticks": ""
           }
          },
          "title": {
           "x": 0.05
          },
          "xaxis": {
           "automargin": true,
           "gridcolor": "white",
           "linecolor": "white",
           "ticks": "",
           "title": {
            "standoff": 15
           },
           "zerolinecolor": "white",
           "zerolinewidth": 2
          },
          "yaxis": {
           "automargin": true,
           "gridcolor": "white",
           "linecolor": "white",
           "ticks": "",
           "title": {
            "standoff": 15
           },
           "zerolinecolor": "white",
           "zerolinewidth": 2
          }
         }
        },
        "width": 600,
        "xaxis": {
         "nticks": 8,
         "range": [
          0,
          4
         ],
         "visible": true
        },
        "yaxis": {
         "nticks": 8,
         "range": [
          0,
          4
         ],
         "visible": true
        }
       }
      },
      "text/html": [
       "<div>\n",
       "        \n",
       "        \n",
       "            <div id=\"77c28e67-fac5-4774-b60b-ea49ec232b65\" class=\"plotly-graph-div\" style=\"height:600px; width:600px;\"></div>\n",
       "            <script type=\"text/javascript\">\n",
       "                require([\"plotly\"], function(Plotly) {\n",
       "                    window.PLOTLYENV=window.PLOTLYENV || {};\n",
       "                    \n",
       "                if (document.getElementById(\"77c28e67-fac5-4774-b60b-ea49ec232b65\")) {\n",
       "                    Plotly.newPlot(\n",
       "                        '77c28e67-fac5-4774-b60b-ea49ec232b65',\n",
       "                        [],\n",
       "                        {\"annotations\": [{\"align\": \"center\", \"font\": {\"color\": \"#C3A067\", \"family\": \"acumen pro\", \"size\": 38}, \"showarrow\": false, \"text\": \"<b>3</b>\", \"textangle\": -90.0, \"x\": 2.5, \"y\": 0.5}, {\"align\": \"center\", \"font\": {\"color\": \"#C3A067\", \"family\": \"acumen pro\", \"size\": 38}, \"showarrow\": false, \"text\": \"<b>2</b>\", \"textangle\": 0.0, \"x\": 0.5, \"y\": 0.5}, {\"align\": \"center\", \"font\": {\"color\": \"black\", \"family\": \"acumen pro\", \"size\": 16}, \"showarrow\": false, \"text\": \"1\", \"textangle\": 0, \"x\": 2.1, \"y\": 0.9}, {\"align\": \"center\", \"font\": {\"color\": \"black\", \"family\": \"acumen pro\", \"size\": 16}, \"showarrow\": false, \"text\": \"1\", \"textangle\": 0, \"x\": 0.09999999999999998, \"y\": 0.9}, {\"align\": \"center\", \"font\": {\"color\": \"#bb9394\", \"family\": \"acumen pro\", \"size\": 38}, \"showarrow\": false, \"text\": \"<b>1</b>\", \"textangle\": -90.0, \"x\": 3.5, \"y\": 2.5}, {\"align\": \"center\", \"font\": {\"color\": \"#bb9394\", \"family\": \"acumen pro\", \"size\": 38}, \"showarrow\": false, \"text\": \"<b>5</b>\", \"textangle\": -180.0, \"x\": 0.5, \"y\": 2.5}, {\"align\": \"center\", \"font\": {\"color\": \"black\", \"family\": \"acumen pro\", \"size\": 16}, \"showarrow\": false, \"text\": \"2\", \"textangle\": 0, \"x\": 3.1, \"y\": 2.9}, {\"align\": \"center\", \"font\": {\"color\": \"black\", \"family\": \"acumen pro\", \"size\": 16}, \"showarrow\": false, \"text\": \"2\", \"textangle\": 0, \"x\": 0.09999999999999998, \"y\": 2.9}], \"height\": 600, \"shapes\": [{\"line\": {\"color\": \"#C3A067\", \"width\": 3}, \"type\": \"line\", \"x0\": 2.5, \"x1\": 2.5, \"y0\": 0.5, \"y1\": 1.5}, {\"line\": {\"color\": \"#C3A067\", \"width\": 3}, \"type\": \"line\", \"x0\": 2.5, \"x1\": 3.5, \"y0\": 1.5, \"y1\": 1.5}, {\"line\": {\"color\": \"#C3A067\", \"width\": 3}, \"type\": \"line\", \"x0\": 3.5, \"x1\": 3.5, \"y0\": 1.5, \"y1\": 2.5}, {\"line\": {\"color\": \"#C3A067\", \"width\": 3}, \"type\": \"line\", \"x0\": 3.5, \"x1\": 2.5, \"y0\": 2.5, \"y1\": 2.5}, {\"line\": {\"color\": \"#C3A067\", \"width\": 3}, \"type\": \"line\", \"x0\": 2.5, \"x1\": 2.5, \"y0\": 2.5, \"y1\": 3.5}, {\"line\": {\"color\": \"#C3A067\", \"width\": 3}, \"type\": \"line\", \"x0\": 2.5, \"x1\": 1.5, \"y0\": 3.5, \"y1\": 3.5}, {\"line\": {\"color\": \"#C3A067\", \"width\": 3}, \"type\": \"line\", \"x0\": 1.5, \"x1\": 0.5, \"y0\": 3.5, \"y1\": 3.5}, {\"line\": {\"color\": \"#C3A067\", \"width\": 3}, \"type\": \"line\", \"x0\": 0.5, \"x1\": 0.5, \"y0\": 3.5, \"y1\": 2.5}, {\"line\": {\"color\": \"#C3A067\", \"width\": 3}, \"type\": \"line\", \"x0\": 0.5, \"x1\": 0.5, \"y0\": 2.5, \"y1\": 1.5}, {\"line\": {\"color\": \"#C3A067\", \"width\": 3}, \"type\": \"line\", \"x0\": 0.5, \"x1\": 0.5, \"y0\": 1.5, \"y1\": 0.5}, {\"fillcolor\": \"#999999\", \"line\": {\"color\": \"#666666\", \"width\": 1}, \"type\": \"rect\", \"x0\": 1, \"x1\": 2, \"y0\": 0, \"y1\": 1}], \"template\": {\"data\": {\"bar\": [{\"error_x\": {\"color\": \"#2a3f5f\"}, \"error_y\": {\"color\": \"#2a3f5f\"}, \"marker\": {\"line\": {\"color\": \"#E5ECF6\", \"width\": 0.5}}, \"type\": \"bar\"}], \"barpolar\": [{\"marker\": {\"line\": {\"color\": \"#E5ECF6\", \"width\": 0.5}}, \"type\": \"barpolar\"}], \"carpet\": [{\"aaxis\": {\"endlinecolor\": \"#2a3f5f\", \"gridcolor\": \"white\", \"linecolor\": \"white\", \"minorgridcolor\": \"white\", \"startlinecolor\": \"#2a3f5f\"}, \"baxis\": {\"endlinecolor\": \"#2a3f5f\", \"gridcolor\": \"white\", \"linecolor\": \"white\", \"minorgridcolor\": \"white\", \"startlinecolor\": \"#2a3f5f\"}, \"type\": \"carpet\"}], \"choropleth\": [{\"colorbar\": {\"outlinewidth\": 0, \"ticks\": \"\"}, \"type\": \"choropleth\"}], \"contour\": [{\"colorbar\": {\"outlinewidth\": 0, \"ticks\": \"\"}, \"colorscale\": [[0.0, \"#0d0887\"], [0.1111111111111111, \"#46039f\"], [0.2222222222222222, \"#7201a8\"], [0.3333333333333333, \"#9c179e\"], [0.4444444444444444, \"#bd3786\"], [0.5555555555555556, \"#d8576b\"], [0.6666666666666666, \"#ed7953\"], [0.7777777777777778, \"#fb9f3a\"], [0.8888888888888888, \"#fdca26\"], [1.0, \"#f0f921\"]], \"type\": \"contour\"}], \"contourcarpet\": [{\"colorbar\": {\"outlinewidth\": 0, \"ticks\": \"\"}, \"type\": \"contourcarpet\"}], \"heatmap\": [{\"colorbar\": {\"outlinewidth\": 0, \"ticks\": \"\"}, \"colorscale\": [[0.0, \"#0d0887\"], [0.1111111111111111, \"#46039f\"], [0.2222222222222222, \"#7201a8\"], [0.3333333333333333, \"#9c179e\"], [0.4444444444444444, \"#bd3786\"], [0.5555555555555556, \"#d8576b\"], [0.6666666666666666, \"#ed7953\"], [0.7777777777777778, \"#fb9f3a\"], [0.8888888888888888, \"#fdca26\"], [1.0, \"#f0f921\"]], \"type\": \"heatmap\"}], \"heatmapgl\": [{\"colorbar\": {\"outlinewidth\": 0, \"ticks\": \"\"}, \"colorscale\": [[0.0, \"#0d0887\"], [0.1111111111111111, \"#46039f\"], [0.2222222222222222, \"#7201a8\"], [0.3333333333333333, \"#9c179e\"], [0.4444444444444444, \"#bd3786\"], [0.5555555555555556, \"#d8576b\"], [0.6666666666666666, \"#ed7953\"], [0.7777777777777778, \"#fb9f3a\"], [0.8888888888888888, \"#fdca26\"], [1.0, \"#f0f921\"]], \"type\": \"heatmapgl\"}], \"histogram\": [{\"marker\": {\"colorbar\": {\"outlinewidth\": 0, \"ticks\": \"\"}}, \"type\": \"histogram\"}], \"histogram2d\": [{\"colorbar\": {\"outlinewidth\": 0, \"ticks\": \"\"}, \"colorscale\": [[0.0, \"#0d0887\"], [0.1111111111111111, \"#46039f\"], [0.2222222222222222, \"#7201a8\"], [0.3333333333333333, \"#9c179e\"], [0.4444444444444444, \"#bd3786\"], [0.5555555555555556, \"#d8576b\"], [0.6666666666666666, \"#ed7953\"], [0.7777777777777778, \"#fb9f3a\"], [0.8888888888888888, \"#fdca26\"], [1.0, \"#f0f921\"]], \"type\": \"histogram2d\"}], \"histogram2dcontour\": [{\"colorbar\": {\"outlinewidth\": 0, \"ticks\": \"\"}, \"colorscale\": [[0.0, \"#0d0887\"], [0.1111111111111111, \"#46039f\"], [0.2222222222222222, \"#7201a8\"], [0.3333333333333333, \"#9c179e\"], [0.4444444444444444, \"#bd3786\"], [0.5555555555555556, \"#d8576b\"], [0.6666666666666666, \"#ed7953\"], [0.7777777777777778, \"#fb9f3a\"], [0.8888888888888888, \"#fdca26\"], [1.0, \"#f0f921\"]], \"type\": \"histogram2dcontour\"}], \"mesh3d\": [{\"colorbar\": {\"outlinewidth\": 0, \"ticks\": \"\"}, \"type\": \"mesh3d\"}], \"parcoords\": [{\"line\": {\"colorbar\": {\"outlinewidth\": 0, \"ticks\": \"\"}}, \"type\": \"parcoords\"}], \"pie\": [{\"automargin\": true, \"type\": \"pie\"}], \"scatter\": [{\"marker\": {\"colorbar\": {\"outlinewidth\": 0, \"ticks\": \"\"}}, \"type\": \"scatter\"}], \"scatter3d\": [{\"line\": {\"colorbar\": {\"outlinewidth\": 0, \"ticks\": \"\"}}, \"marker\": {\"colorbar\": {\"outlinewidth\": 0, \"ticks\": \"\"}}, \"type\": \"scatter3d\"}], \"scattercarpet\": [{\"marker\": {\"colorbar\": {\"outlinewidth\": 0, \"ticks\": \"\"}}, \"type\": \"scattercarpet\"}], \"scattergeo\": [{\"marker\": {\"colorbar\": {\"outlinewidth\": 0, \"ticks\": \"\"}}, \"type\": \"scattergeo\"}], \"scattergl\": [{\"marker\": {\"colorbar\": {\"outlinewidth\": 0, \"ticks\": \"\"}}, \"type\": \"scattergl\"}], \"scattermapbox\": [{\"marker\": {\"colorbar\": {\"outlinewidth\": 0, \"ticks\": \"\"}}, \"type\": \"scattermapbox\"}], \"scatterpolar\": [{\"marker\": {\"colorbar\": {\"outlinewidth\": 0, \"ticks\": \"\"}}, \"type\": \"scatterpolar\"}], \"scatterpolargl\": [{\"marker\": {\"colorbar\": {\"outlinewidth\": 0, \"ticks\": \"\"}}, \"type\": \"scatterpolargl\"}], \"scatterternary\": [{\"marker\": {\"colorbar\": {\"outlinewidth\": 0, \"ticks\": \"\"}}, \"type\": \"scatterternary\"}], \"surface\": [{\"colorbar\": {\"outlinewidth\": 0, \"ticks\": \"\"}, \"colorscale\": [[0.0, \"#0d0887\"], [0.1111111111111111, \"#46039f\"], [0.2222222222222222, \"#7201a8\"], [0.3333333333333333, \"#9c179e\"], [0.4444444444444444, \"#bd3786\"], [0.5555555555555556, \"#d8576b\"], [0.6666666666666666, \"#ed7953\"], [0.7777777777777778, \"#fb9f3a\"], [0.8888888888888888, \"#fdca26\"], [1.0, \"#f0f921\"]], \"type\": \"surface\"}], \"table\": [{\"cells\": {\"fill\": {\"color\": \"#EBF0F8\"}, \"line\": {\"color\": \"white\"}}, \"header\": {\"fill\": {\"color\": \"#C8D4E3\"}, \"line\": {\"color\": \"white\"}}, \"type\": \"table\"}]}, \"layout\": {\"annotationdefaults\": {\"arrowcolor\": \"#2a3f5f\", \"arrowhead\": 0, \"arrowwidth\": 1}, \"coloraxis\": {\"colorbar\": {\"outlinewidth\": 0, \"ticks\": \"\"}}, \"colorscale\": {\"diverging\": [[0, \"#8e0152\"], [0.1, \"#c51b7d\"], [0.2, \"#de77ae\"], [0.3, \"#f1b6da\"], [0.4, \"#fde0ef\"], [0.5, \"#f7f7f7\"], [0.6, \"#e6f5d0\"], [0.7, \"#b8e186\"], [0.8, \"#7fbc41\"], [0.9, \"#4d9221\"], [1, \"#276419\"]], \"sequential\": [[0.0, \"#0d0887\"], [0.1111111111111111, \"#46039f\"], [0.2222222222222222, \"#7201a8\"], [0.3333333333333333, \"#9c179e\"], [0.4444444444444444, \"#bd3786\"], [0.5555555555555556, \"#d8576b\"], [0.6666666666666666, \"#ed7953\"], [0.7777777777777778, \"#fb9f3a\"], [0.8888888888888888, \"#fdca26\"], [1.0, \"#f0f921\"]], \"sequentialminus\": [[0.0, \"#0d0887\"], [0.1111111111111111, \"#46039f\"], [0.2222222222222222, \"#7201a8\"], [0.3333333333333333, \"#9c179e\"], [0.4444444444444444, \"#bd3786\"], [0.5555555555555556, \"#d8576b\"], [0.6666666666666666, \"#ed7953\"], [0.7777777777777778, \"#fb9f3a\"], [0.8888888888888888, \"#fdca26\"], [1.0, \"#f0f921\"]]}, \"colorway\": [\"#636efa\", \"#EF553B\", \"#00cc96\", \"#ab63fa\", \"#FFA15A\", \"#19d3f3\", \"#FF6692\", \"#B6E880\", \"#FF97FF\", \"#FECB52\"], \"font\": {\"color\": \"#2a3f5f\"}, \"geo\": {\"bgcolor\": \"white\", \"lakecolor\": \"white\", \"landcolor\": \"#E5ECF6\", \"showlakes\": true, \"showland\": true, \"subunitcolor\": \"white\"}, \"hoverlabel\": {\"align\": \"left\"}, \"hovermode\": \"closest\", \"mapbox\": {\"style\": \"light\"}, \"paper_bgcolor\": \"white\", \"plot_bgcolor\": \"#E5ECF6\", \"polar\": {\"angularaxis\": {\"gridcolor\": \"white\", \"linecolor\": \"white\", \"ticks\": \"\"}, \"bgcolor\": \"#E5ECF6\", \"radialaxis\": {\"gridcolor\": \"white\", \"linecolor\": \"white\", \"ticks\": \"\"}}, \"scene\": {\"xaxis\": {\"backgroundcolor\": \"#E5ECF6\", \"gridcolor\": \"white\", \"gridwidth\": 2, \"linecolor\": \"white\", \"showbackground\": true, \"ticks\": \"\", \"zerolinecolor\": \"white\"}, \"yaxis\": {\"backgroundcolor\": \"#E5ECF6\", \"gridcolor\": \"white\", \"gridwidth\": 2, \"linecolor\": \"white\", \"showbackground\": true, \"ticks\": \"\", \"zerolinecolor\": \"white\"}, \"zaxis\": {\"backgroundcolor\": \"#E5ECF6\", \"gridcolor\": \"white\", \"gridwidth\": 2, \"linecolor\": \"white\", \"showbackground\": true, \"ticks\": \"\", \"zerolinecolor\": \"white\"}}, \"shapedefaults\": {\"line\": {\"color\": \"#2a3f5f\"}}, \"ternary\": {\"aaxis\": {\"gridcolor\": \"white\", \"linecolor\": \"white\", \"ticks\": \"\"}, \"baxis\": {\"gridcolor\": \"white\", \"linecolor\": \"white\", \"ticks\": \"\"}, \"bgcolor\": \"#E5ECF6\", \"caxis\": {\"gridcolor\": \"white\", \"linecolor\": \"white\", \"ticks\": \"\"}}, \"title\": {\"x\": 0.05}, \"xaxis\": {\"automargin\": true, \"gridcolor\": \"white\", \"linecolor\": \"white\", \"ticks\": \"\", \"title\": {\"standoff\": 15}, \"zerolinecolor\": \"white\", \"zerolinewidth\": 2}, \"yaxis\": {\"automargin\": true, \"gridcolor\": \"white\", \"linecolor\": \"white\", \"ticks\": \"\", \"title\": {\"standoff\": 15}, \"zerolinecolor\": \"white\", \"zerolinewidth\": 2}}}, \"width\": 600, \"xaxis\": {\"nticks\": 8, \"range\": [0, 4], \"visible\": true}, \"yaxis\": {\"nticks\": 8, \"range\": [0, 4], \"visible\": true}},\n",
       "                        {\"responsive\": true}\n",
       "                    ).then(function(){\n",
       "                            \n",
       "var gd = document.getElementById('77c28e67-fac5-4774-b60b-ea49ec232b65');\n",
       "var x = new MutationObserver(function (mutations, observer) {{\n",
       "        var display = window.getComputedStyle(gd).display;\n",
       "        if (!display || display === 'none') {{\n",
       "            console.log([gd, 'removed!']);\n",
       "            Plotly.purge(gd);\n",
       "            observer.disconnect();\n",
       "        }}\n",
       "}});\n",
       "\n",
       "// Listen for the removal of the full notebook cells\n",
       "var notebookContainer = gd.closest('#notebook-container');\n",
       "if (notebookContainer) {{\n",
       "    x.observe(notebookContainer, {childList: true});\n",
       "}}\n",
       "\n",
       "// Listen for the clearing of the current output cell\n",
       "var outputEl = gd.closest('.output');\n",
       "if (outputEl) {{\n",
       "    x.observe(outputEl, {childList: true});\n",
       "}}\n",
       "\n",
       "                        })\n",
       "                };\n",
       "                });\n",
       "            </script>\n",
       "        </div>"
      ]
     },
     "metadata": {},
     "output_type": "display_data"
    }
   ],
   "source": [
    "dice_game.GRID_SIZE=4\n",
    "\n",
    "map_ = dice_game.generate_map(\n",
    "    pair_count=2,\n",
    "    add_block=True,\n",
    "    min_length=2,\n",
    "    strict_impossible=False\n",
    "    )\n",
    "\n",
    "fig = map_map(map_, grid_size=dice_game.GRID_SIZE)\n",
    "\n",
    "fig"
   ]
  },
  {
   "cell_type": "code",
   "execution_count": 40,
   "metadata": {},
   "outputs": [],
   "source": [
    "fig = make_grid(\n",
    "    grid_size=4,\n",
    "    real_solutions=2,\n",
    "    fake_solutions=2,\n",
    "    path_length_min=5,\n",
    "    path_length_max=8\n",
    ")"
   ]
  },
  {
   "cell_type": "code",
   "execution_count": 17,
   "metadata": {},
   "outputs": [],
   "source": [
    "for i in range(30):\n",
    "    paths=2\n",
    "    reals = randint(0,paths)\n",
    "    \n",
    "    fig = make_grid(\n",
    "        grid_size=4,\n",
    "        real_solutions=reals,\n",
    "        fake_solutions=paths-reals,\n",
    "        path_length_min=4,\n",
    "        path_length_max=8\n",
    "        )\n",
    "    fig.write_image(f\"images/4x4_{paths}paths_{i}\", format='pdf')"
   ]
  },
  {
   "cell_type": "code",
   "execution_count": 18,
   "metadata": {},
   "outputs": [],
   "source": [
    "for i in range(30):\n",
    "    paths=2\n",
    "    grid=3\n",
    "    reals = randint(0,paths)\n",
    "    \n",
    "    fig = make_grid(\n",
    "        grid_size=grid,\n",
    "        real_solutions=reals,\n",
    "        fake_solutions=paths-reals,\n",
    "        path_length_min=3,\n",
    "        path_length_max=5\n",
    "        )\n",
    "    fig.write_image(f\"images/{grid}x{grid}_{paths}paths_{i}\", format='pdf')"
   ]
  },
  {
   "cell_type": "code",
   "execution_count": null,
   "metadata": {},
   "outputs": [],
   "source": []
  }
 ],
 "metadata": {
  "kernelspec": {
   "display_name": "Python 3.8.2 32-bit",
   "language": "python",
   "name": "python38232bit68b9749d3d6d4410a4c4a0ae80198815"
  },
  "language_info": {
   "codemirror_mode": {
    "name": "ipython",
    "version": 3
   },
   "file_extension": ".py",
   "mimetype": "text/x-python",
   "name": "python",
   "nbconvert_exporter": "python",
   "pygments_lexer": "ipython3",
   "version": "3.8.2"
  }
 },
 "nbformat": 4,
 "nbformat_minor": 2
}
